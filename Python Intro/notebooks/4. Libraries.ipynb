{
 "cells": [
  {
   "cell_type": "markdown",
   "metadata": {},
   "source": [
    "# Libraries\n",
    "\n",
    "---\n",
    "\n",
    "The standard Python library is robust and rich in features. IMHO one of the key reasons Python is so successful is the extensibility through a broad range of community driven, open source 3rd party libraries - Pandas (built on NumPy), MatplotLib, Jupyter, SciKitLearn, FbProphet to name a few.\n",
    "\n",
    "From command line run the following:\n",
    "    \n",
    "    pip install pandas\n",
    "    \n",
    "...or if you installed with Anaconda Distribution\n",
    "    \n",
    "    conda install pandas\n",
    "    \n",
    "The libraries demo'd here are just the tip of the iceberg!!"
   ]
  },
  {
   "cell_type": "code",
   "execution_count": null,
   "metadata": {},
   "outputs": [],
   "source": [
    "# import the os library for file manipulation\n",
    "import os\n",
    "# import the pandas library and alias it\n",
    "import pandas as pd\n",
    "# we've already seen how to import a subset of features from a library using \"from\"\n",
    "from numpy import array"
   ]
  },
  {
   "cell_type": "code",
   "execution_count": null,
   "metadata": {},
   "outputs": [],
   "source": [
    "# create a data frame from a sample csv\n",
    "df = pd.read_csv(\"SalesOrderHeader.csv\", delimiter=\"\\t\")"
   ]
  },
  {
   "cell_type": "code",
   "execution_count": null,
   "metadata": {},
   "outputs": [],
   "source": [
    "# top of the data frame\n",
    "df.head()"
   ]
  },
  {
   "cell_type": "code",
   "execution_count": null,
   "metadata": {},
   "outputs": [],
   "source": [
    "# actually, I want more\n",
    "df.head(10)"
   ]
  },
  {
   "cell_type": "code",
   "execution_count": null,
   "metadata": {
    "scrolled": true
   },
   "outputs": [],
   "source": [
    "# and the end\n",
    "df.tail()"
   ]
  },
  {
   "cell_type": "code",
   "execution_count": null,
   "metadata": {},
   "outputs": [],
   "source": [
    "# Summarise the DataFrame\n",
    "df.describe()"
   ]
  },
  {
   "cell_type": "code",
   "execution_count": null,
   "metadata": {},
   "outputs": [],
   "source": [
    "# Show a single column from the data frame, use .head() to show the top again\n",
    "df[\"SalesOrderID\"].head()"
   ]
  },
  {
   "cell_type": "code",
   "execution_count": null,
   "metadata": {},
   "outputs": [],
   "source": [
    "# Get the data from a single row (in this case, the 3rd row)\n",
    "df.iloc[2]"
   ]
  },
  {
   "cell_type": "code",
   "execution_count": null,
   "metadata": {},
   "outputs": [],
   "source": [
    "# Get the SalesOrderID from a single row\n",
    "df.iloc[2][\"SalesOrderID\"]"
   ]
  },
  {
   "cell_type": "code",
   "execution_count": null,
   "metadata": {},
   "outputs": [],
   "source": [
    "df.iloc[2][0]"
   ]
  },
  {
   "cell_type": "markdown",
   "metadata": {},
   "source": [
    "---\n",
    "\n",
    "## Plotting libraries\n",
    "\n",
    "For Data Analytics, Python makes it easy to visualise data using plotting libraries like:\n",
    "* MatplotLib\n",
    "* SeaBorn\n",
    "* Bokeh\n",
    "* HoloViews\n",
    "* ggplot\n",
    "* Plotly"
   ]
  },
  {
   "cell_type": "code",
   "execution_count": null,
   "metadata": {},
   "outputs": [],
   "source": [
    "# MatplotLib is one of the most commonly used libraries for dataviz\n",
    "# import the MatPlotLib plotting library and assign an alias\n",
    "import matplotlib.pyplot as plt"
   ]
  },
  {
   "cell_type": "code",
   "execution_count": null,
   "metadata": {},
   "outputs": [],
   "source": [
    "# Plot a simple chart\n",
    "plt.plot(df[\"SalesOrderID\"], df[\"TotalDue\"])\n",
    "plt.ylabel('TotalDue')\n",
    "plt.xlabel('Sales Order ID')\n",
    "plt.show()"
   ]
  },
  {
   "cell_type": "code",
   "execution_count": null,
   "metadata": {},
   "outputs": [],
   "source": [
    "# the plot() method tries to guess the best chart for the job...\n",
    "plt.plot(df[\"TerritoryID\"], df[\"TotalDue\"])\n",
    "plt.ylabel('TotalDue')\n",
    "plt.xlabel('Territory ID')\n",
    "plt.show()"
   ]
  },
  {
   "cell_type": "code",
   "execution_count": null,
   "metadata": {},
   "outputs": [],
   "source": [
    "#Use a groupby to process the TerritoryID\n",
    "groupedDF = df.groupby(\"TerritoryID\").sum()\n",
    "groupedDF.head()"
   ]
  },
  {
   "cell_type": "code",
   "execution_count": null,
   "metadata": {},
   "outputs": [],
   "source": [
    "# there are more explicit methods for specifying a graph type e.g. bar\n",
    "plt.bar(groupedDF.index, groupedDF[\"TotalDue\"])\n",
    "# compare to \n",
    "# plt.bar(groupedDF.index, groupedDF[\"TotalDue\"])\n",
    "plt.ylabel(\"Total Due\")\n",
    "plt.xlabel(\"Territory ID\")\n",
    "plt.title(\"Total Due by Territory\")\n",
    "plt.show()"
   ]
  },
  {
   "cell_type": "markdown",
   "metadata": {},
   "source": [
    "---\n",
    "\n",
    "## Plotting Math functions with NumPy\n",
    "\n",
    "Numpy is one of the most commonly used libraries for processing numerical information, mathematics and statistical functions. \n",
    "\n",
    "It is also a key component in Pandas."
   ]
  },
  {
   "cell_type": "code",
   "execution_count": null,
   "metadata": {},
   "outputs": [],
   "source": [
    "#import matplotlib.pyplot as plt #........reimport not necessary\n",
    "#import matplotlib as mpl\n",
    "import numpy as np\n",
    "\n",
    "x = np.linspace(0, 20, 100)\n",
    "plt.plot(x, np.sin(x))\n",
    "plt.show() "
   ]
  },
  {
   "cell_type": "markdown",
   "metadata": {},
   "source": [
    "### *Other plotting libraries are available!*\n",
    "\n",
    "---"
   ]
  }
 ],
 "metadata": {
  "kernelspec": {
   "display_name": "Python 3",
   "language": "python",
   "name": "python3"
  },
  "language_info": {
   "codemirror_mode": {
    "name": "ipython",
    "version": 3
   },
   "file_extension": ".py",
   "mimetype": "text/x-python",
   "name": "python",
   "nbconvert_exporter": "python",
   "pygments_lexer": "ipython3",
   "version": "3.7.2"
  }
 },
 "nbformat": 4,
 "nbformat_minor": 2
}
