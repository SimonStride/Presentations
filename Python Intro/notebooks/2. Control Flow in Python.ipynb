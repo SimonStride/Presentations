{
 "cells": [
  {
   "cell_type": "markdown",
   "metadata": {},
   "source": [
    "# Control Flow"
   ]
  },
  {
   "cell_type": "markdown",
   "metadata": {},
   "source": [
    "---\n",
    "## Golden Rules"
   ]
  },
  {
   "cell_type": "code",
   "execution_count": null,
   "metadata": {},
   "outputs": [],
   "source": [
    "# Whitespace is enforced in code blocks (in place of curly brackets etc)\n",
    "# Equality is evaluated using \"==\"\n",
    "# Control flows start with a \":\""
   ]
  },
  {
   "cell_type": "markdown",
   "metadata": {},
   "source": [
    "---\n",
    "\n",
    "## If Statements"
   ]
  },
  {
   "cell_type": "code",
   "execution_count": 2,
   "metadata": {},
   "outputs": [
    {
     "name": "stdout",
     "output_type": "stream",
     "text": [
      "a is the letter 'a'\n"
     ]
    }
   ],
   "source": [
    "# If statements and else if. I mean, elif (for brevity of course...)\n",
    "a = \"a\"\n",
    "if a == 1:\n",
    "    print(\"a is 1\")\n",
    "elif a==None:\n",
    "    print(\"a is None\")\n",
    "elif a==\"a\":\n",
    "    print(\"a is the letter 'a'\")\n",
    "else:\n",
    "    print(\"a is not recognised\")"
   ]
  },
  {
   "cell_type": "markdown",
   "metadata": {},
   "source": [
    "---\n",
    "\n",
    "## For Loops"
   ]
  },
  {
   "cell_type": "code",
   "execution_count": 6,
   "metadata": {},
   "outputs": [
    {
     "name": "stdout",
     "output_type": "stream",
     "text": [
      "1\n",
      "3\n",
      "5\n",
      "7\n",
      "9\n"
     ]
    }
   ],
   "source": [
    "# Simple loop through a range (aka list)\n",
    "for i in range(1,10):\n",
    "    print(i)"
   ]
  },
  {
   "cell_type": "code",
   "execution_count": 4,
   "metadata": {},
   "outputs": [
    {
     "name": "stdout",
     "output_type": "stream",
     "text": [
      "abc\n",
      "def\n",
      "ghi\n"
     ]
    }
   ],
   "source": [
    "# Loop through an explicitly defined list\n",
    "MyList = [\"abc\", \"def\", \"ghi\"]\n",
    "for item in MyList:\n",
    "    print(item)"
   ]
  },
  {
   "cell_type": "code",
   "execution_count": 5,
   "metadata": {},
   "outputs": [
    {
     "name": "stdout",
     "output_type": "stream",
     "text": [
      "0: abc\n",
      "1: def\n",
      "2: ghi\n"
     ]
    }
   ],
   "source": [
    "# Get the index as we go\n",
    "for i, item in enumerate(MyList):\n",
    "    print(str(i) + \": \" + item)"
   ]
  },
  {
   "cell_type": "markdown",
   "metadata": {},
   "source": [
    "---\n",
    "\n",
    "## While loops"
   ]
  },
  {
   "cell_type": "code",
   "execution_count": 7,
   "metadata": {},
   "outputs": [
    {
     "name": "stdout",
     "output_type": "stream",
     "text": [
      "0\n",
      "1\n",
      "2\n",
      "3\n",
      "4\n",
      "5\n",
      "6\n",
      "7\n",
      "8\n",
      "9\n"
     ]
    }
   ],
   "source": [
    "i = 0\n",
    "while i < 10:\n",
    "    print(i)\n",
    "    i += 1"
   ]
  },
  {
   "cell_type": "markdown",
   "metadata": {},
   "source": [
    "---\n",
    "\n",
    "## Try...Except\n"
   ]
  },
  {
   "cell_type": "code",
   "execution_count": 8,
   "metadata": {},
   "outputs": [
    {
     "name": "stdout",
     "output_type": "stream",
     "text": [
      "An error occurred\n"
     ]
    }
   ],
   "source": [
    "# Exception handling is pretty simple\n",
    "j = 10\n",
    "try:\n",
    "    j/0\n",
    "except:\n",
    "    print(\"An error occurred\")"
   ]
  },
  {
   "cell_type": "code",
   "execution_count": 9,
   "metadata": {},
   "outputs": [
    {
     "name": "stdout",
     "output_type": "stream",
     "text": [
      "An error occurred\n",
      "I tidied up...\n"
     ]
    }
   ],
   "source": [
    "# And a \"Finally\" statement to wrap it all up\n",
    "try:\n",
    "    j/0\n",
    "except:\n",
    "    print(\"An error occurred\")\n",
    "finally:\n",
    "    j = 100\n",
    "    print(\"I tidied up...\")"
   ]
  },
  {
   "cell_type": "code",
   "execution_count": 10,
   "metadata": {},
   "outputs": [
    {
     "name": "stdout",
     "output_type": "stream",
     "text": [
      "An error occurred, here's the details:\n",
      "\t- division by zero\n"
     ]
    }
   ],
   "source": [
    "# And you can read the error message\n",
    "try:\n",
    "    j/0\n",
    "except Exception as exc:\n",
    "    print(\"An error occurred, here's the details:\")\n",
    "    print(\"\\t- \" + str(exc))"
   ]
  },
  {
   "cell_type": "code",
   "execution_count": 11,
   "metadata": {},
   "outputs": [
    {
     "ename": "IndentationError",
     "evalue": "unexpected indent (<ipython-input-11-ec9320690efa>, line 6)",
     "output_type": "error",
     "traceback": [
      "\u001b[1;36m  File \u001b[1;32m\"<ipython-input-11-ec9320690efa>\"\u001b[1;36m, line \u001b[1;32m6\u001b[0m\n\u001b[1;33m    print(\"\\t- \" + str(exc))\u001b[0m\n\u001b[1;37m    ^\u001b[0m\n\u001b[1;31mIndentationError\u001b[0m\u001b[1;31m:\u001b[0m unexpected indent\n"
     ]
    }
   ],
   "source": [
    "# remember, whitespace is enforced, so the following doesn't make sense\n",
    "try:\n",
    "    j/0\n",
    "except Exception as exc:\n",
    "   print(\"An error occurred, here's the details:\")\n",
    "    print(\"\\t- \" + str(exc))"
   ]
  },
  {
   "cell_type": "code",
   "execution_count": 14,
   "metadata": {},
   "outputs": [
    {
     "name": "stdout",
     "output_type": "stream",
     "text": [
      "An error occurred, here's the details:\n",
      "\t- division by zero\n"
     ]
    }
   ],
   "source": [
    "# Nesting\n",
    "try:\n",
    "    if 1== 1:\n",
    "        j/0\n",
    "        \n",
    "except Exception as exc:\n",
    "    print(\"An error occurred, here's the details:\")\n",
    "    print(\"\\t- \" + str(exc))"
   ]
  },
  {
   "cell_type": "code",
   "execution_count": null,
   "metadata": {},
   "outputs": [],
   "source": []
  }
 ],
 "metadata": {
  "kernelspec": {
   "display_name": "Python 3",
   "language": "python",
   "name": "python3"
  },
  "language_info": {
   "codemirror_mode": {
    "name": "ipython",
    "version": 3
   },
   "file_extension": ".py",
   "mimetype": "text/x-python",
   "name": "python",
   "nbconvert_exporter": "python",
   "pygments_lexer": "ipython3",
   "version": "3.7.1"
  }
 },
 "nbformat": 4,
 "nbformat_minor": 2
}
