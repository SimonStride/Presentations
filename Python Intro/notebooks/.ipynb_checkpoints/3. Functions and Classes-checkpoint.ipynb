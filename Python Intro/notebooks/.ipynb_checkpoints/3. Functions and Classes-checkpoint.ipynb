{
 "cells": [
  {
   "cell_type": "markdown",
   "metadata": {},
   "source": [
    "# Functions\n",
    "\n",
    "Functions are first class citizens in Python! Python is a good fit for functional programming paradigms... More on that another day."
   ]
  },
  {
   "cell_type": "code",
   "execution_count": null,
   "metadata": {},
   "outputs": [],
   "source": [
    "# define a function using def functionName(variable1, variable2):\n",
    "def myFirstFunction():\n",
    "    print(\"Ran the function!\")\n",
    "    \n",
    "# call the function\n",
    "myFirstFunction()"
   ]
  },
  {
   "cell_type": "code",
   "execution_count": null,
   "metadata": {},
   "outputs": [],
   "source": [
    "# implement a return statement\n",
    "def mySecondFunction():\n",
    "    return 100\n",
    "\n",
    "mySecondFunction()\n"
   ]
  },
  {
   "cell_type": "code",
   "execution_count": null,
   "metadata": {},
   "outputs": [],
   "source": [
    "# pass in parameters\n",
    "def myThirdFunction(a, b=1):\n",
    "    return a/b\n",
    "\n",
    "myThirdFunction(100, 10)"
   ]
  },
  {
   "cell_type": "code",
   "execution_count": null,
   "metadata": {},
   "outputs": [],
   "source": [
    "# pass in parameters\n",
    "def myFourthFunction(a:int, b:int):\n",
    "    return a, b\n",
    "\n",
    "#myFourthFunction(100, 10)\n",
    "\n",
    "myFourthFunction((\"abc\" + \"def\"), 10)"
   ]
  },
  {
   "cell_type": "markdown",
   "metadata": {},
   "source": [
    "## `*Args` and `**Kwargs`"
   ]
  },
  {
   "cell_type": "code",
   "execution_count": null,
   "metadata": {},
   "outputs": [],
   "source": [
    "# pass in the parameters to the previous functions using a dict and **\n",
    "# aka \"Kwargs\"\n",
    "vals = {\"a\":1000, \"b\":10}\n",
    "myThirdFunction(**vals)"
   ]
  },
  {
   "cell_type": "code",
   "execution_count": null,
   "metadata": {},
   "outputs": [],
   "source": [
    "# Pass in a variable number of arguments using a \"*\"\n",
    "# aka \"*Args\"\n",
    "def myFourthFunction(a, *args):\n",
    "    print(a)\n",
    "    for v in args:\n",
    "        print(v)\n",
    "\n",
    "myFourthFunction(\"100\", \"1\", \"2\", \"3\", \"4\")"
   ]
  },
  {
   "cell_type": "code",
   "execution_count": null,
   "metadata": {},
   "outputs": [],
   "source": [
    "def MultipleReturn():\n",
    "    a = 1\n",
    "    b = 2\n",
    "    c = 3\n",
    "    return a, b, c\n",
    "\n",
    "MultipleReturn()"
   ]
  },
  {
   "cell_type": "code",
   "execution_count": null,
   "metadata": {},
   "outputs": [],
   "source": [
    "x, y, z = MultipleReturn()\n",
    "y"
   ]
  },
  {
   "cell_type": "markdown",
   "metadata": {},
   "source": [
    "---\n",
    "\n",
    "# Classes\n",
    "\n",
    "Python is actually Object Orientated, so it is easy to define classes"
   ]
  },
  {
   "cell_type": "code",
   "execution_count": null,
   "metadata": {},
   "outputs": [],
   "source": [
    "# Create a class\n",
    "class myClass():\n",
    "    \n",
    "    # constructor method\n",
    "    def __init__(self, val1=None, val2=None):\n",
    "        self.prop1 = val1\n",
    "        self.prop2 = val2\n",
    "        \n",
    "    # simple example method   \n",
    "    def product(self):\n",
    "        return self.prop1 * self.prop2\n",
    "\n",
    "    \n",
    "    \n",
    "# Create an instance of the class\n",
    "x = myClass(100, 20)\n",
    "\n",
    "# Print the properties and the output of the \"product\" method\n",
    "print(x.prop1)\n",
    "print(x.prop2)\n",
    "print(x.product())"
   ]
  },
  {
   "cell_type": "code",
   "execution_count": null,
   "metadata": {},
   "outputs": [],
   "source": [
    "# Python classes also have things like class variables, inheritance....but this session is meant to be < 1 hour! "
   ]
  },
  {
   "cell_type": "code",
   "execution_count": null,
   "metadata": {},
   "outputs": [],
   "source": []
  }
 ],
 "metadata": {
  "kernelspec": {
   "display_name": "Python 3",
   "language": "python",
   "name": "python3"
  },
  "language_info": {
   "codemirror_mode": {
    "name": "ipython",
    "version": 3
   },
   "file_extension": ".py",
   "mimetype": "text/x-python",
   "name": "python",
   "nbconvert_exporter": "python",
   "pygments_lexer": "ipython3",
   "version": "3.7.2"
  }
 },
 "nbformat": 4,
 "nbformat_minor": 2
}
