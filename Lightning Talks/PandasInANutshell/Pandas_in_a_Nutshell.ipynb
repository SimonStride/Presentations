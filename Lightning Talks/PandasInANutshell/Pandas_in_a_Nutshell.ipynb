{
 "cells": [
  {
   "cell_type": "markdown",
   "id": "sudden-composition",
   "metadata": {
    "slideshow": {
     "slide_type": "slide"
    }
   },
   "source": [
    "# Pandas in a Nutshell\n",
    "\n",
    "> Simon Stride\n",
    "\n",
    "*Data Southwest May 2021*"
   ]
  },
  {
   "cell_type": "markdown",
   "id": "outer-catering",
   "metadata": {
    "slideshow": {
     "slide_type": "skip"
    }
   },
   "source": [
    "````shell\n",
    "# run from terminal\n",
    "jupyter nbconvert Jupyter\\ Pandas_in_a_Nutshell.ipynb --to slides --post serve\n",
    "````"
   ]
  },
  {
   "cell_type": "markdown",
   "id": "suffering-farming",
   "metadata": {
    "slideshow": {
     "slide_type": "slide"
    }
   },
   "source": [
    "## About Me\n",
    "\n",
    "Currently work on a farm in Devon\n",
    "\n",
    "ETL'ing data around in SQL Server and Data Warehouses for the last 10 years\n",
    "\n",
    "Talk to me about Data Warehouses, Python, TSQL, Data Science, Data Engineering, BI"
   ]
  },
  {
   "cell_type": "markdown",
   "id": "running-continuity",
   "metadata": {
    "slideshow": {
     "slide_type": "slide"
    }
   },
   "source": [
    "# What is Pandas?\n",
    "\n",
    "* Python library for data manipulation in memory\n",
    "* Ubiquitous for Data Science & Analysis in Python\n",
    "* Built on NumPy => operations run in *C*\n",
    "* Includes a fast and efficient **DataFrame** object for tabular data\n",
    "\n",
    "[https://pandas.pydata.org/](https://pandas.pydata.org/)"
   ]
  },
  {
   "cell_type": "markdown",
   "id": "macro-thanksgiving",
   "metadata": {
    "slideshow": {
     "slide_type": "slide"
    }
   },
   "source": [
    "Install from pip (already installed in Conda)\n",
    "\n",
    "````shell\n",
    "pip install pandas\n",
    "````\n",
    "\n",
    "[https://pypi.org/project/pandas/](https://pypi.org/project/pandas/)"
   ]
  },
  {
   "cell_type": "code",
   "execution_count": 1,
   "id": "drawn-quantity",
   "metadata": {
    "slideshow": {
     "slide_type": "slide"
    }
   },
   "outputs": [
    {
     "data": {
      "text/html": [
       "<div>\n",
       "<style scoped>\n",
       "    .dataframe tbody tr th:only-of-type {\n",
       "        vertical-align: middle;\n",
       "    }\n",
       "\n",
       "    .dataframe tbody tr th {\n",
       "        vertical-align: top;\n",
       "    }\n",
       "\n",
       "    .dataframe thead th {\n",
       "        text-align: right;\n",
       "    }\n",
       "</style>\n",
       "<table border=\"1\" class=\"dataframe\">\n",
       "  <thead>\n",
       "    <tr style=\"text-align: right;\">\n",
       "      <th></th>\n",
       "      <th>column0</th>\n",
       "      <th>column1</th>\n",
       "      <th>column2</th>\n",
       "    </tr>\n",
       "  </thead>\n",
       "  <tbody>\n",
       "    <tr>\n",
       "      <th>0</th>\n",
       "      <td>0</td>\n",
       "      <td>10.1</td>\n",
       "      <td>a</td>\n",
       "    </tr>\n",
       "    <tr>\n",
       "      <th>1</th>\n",
       "      <td>1</td>\n",
       "      <td>20.2</td>\n",
       "      <td>b</td>\n",
       "    </tr>\n",
       "    <tr>\n",
       "      <th>2</th>\n",
       "      <td>2</td>\n",
       "      <td>30.3</td>\n",
       "      <td>c</td>\n",
       "    </tr>\n",
       "    <tr>\n",
       "      <th>3</th>\n",
       "      <td>3</td>\n",
       "      <td>40.4</td>\n",
       "      <td>d</td>\n",
       "    </tr>\n",
       "  </tbody>\n",
       "</table>\n",
       "</div>"
      ],
      "text/plain": [
       "   column0  column1 column2\n",
       "0        0     10.1       a\n",
       "1        1     20.2       b\n",
       "2        2     30.3       c\n",
       "3        3     40.4       d"
      ]
     },
     "execution_count": 1,
     "metadata": {},
     "output_type": "execute_result"
    }
   ],
   "source": [
    "import pandas as pd\n",
    "\n",
    "df = pd.DataFrame({\"column0\": [0, 1, 2, 3],\n",
    "                   \"column1\": [10.1, 20.2, 30.3, 40.4],\n",
    "                   \"column2\": [\"a\", \"b\", \"c\", \"d\"]})\n",
    "\n",
    "df"
   ]
  },
  {
   "cell_type": "markdown",
   "id": "visible-technical",
   "metadata": {
    "slideshow": {
     "slide_type": "slide"
    }
   },
   "source": [
    "So what?"
   ]
  },
  {
   "cell_type": "code",
   "execution_count": 2,
   "id": "starting-cement",
   "metadata": {
    "slideshow": {
     "slide_type": "skip"
    }
   },
   "outputs": [
    {
     "name": "stdout",
     "output_type": "stream",
     "text": [
      "dict_keys(['sepal.length', 'sepal.width', 'petal.length', 'petal.width', 'variety'])\n"
     ]
    }
   ],
   "source": [
    "import csv\n",
    "\n",
    "data = {}\n",
    "\n",
    "with open(\"iris.csv\") as f:\n",
    "    reader = csv.reader(f)\n",
    "    headers = next(reader)\n",
    "    for h in headers:\n",
    "        data[h] = []\n",
    "    for r in reader:\n",
    "        for i, h in enumerate(headers):\n",
    "            data[h].append(r[i])\n",
    "\n",
    "print(data.keys())"
   ]
  },
  {
   "cell_type": "markdown",
   "id": "sharp-segment",
   "metadata": {
    "slideshow": {
     "slide_type": "slide"
    }
   },
   "source": [
    "## Write Less Code!\n",
    "\n",
    "The following examples both read a local csv file into memory and read the column headers\n",
    "    \n",
    "````python\n",
    "import csv\n",
    "# Load data into a dict object\n",
    "data = {}\n",
    "\n",
    "with open(\"iris.csv\") as f:\n",
    "    reader = csv.reader(f)\n",
    "    headers = next(reader)\n",
    "    for h in headers:\n",
    "        data[h] = []\n",
    "    for r in reader:\n",
    "        for i, h in enumerate(headers):\n",
    "            data[h].append(r[i])\n",
    "````\n",
    "\n",
    "...and the equivalent in Pandas dataframes:\n",
    "\n",
    "````python\n",
    "import pandas as pd\n",
    "\n",
    "df = pd.read_csv(\"iris.csv\")\n",
    "````\n"
   ]
  },
  {
   "cell_type": "code",
   "execution_count": 3,
   "id": "respected-event",
   "metadata": {
    "slideshow": {
     "slide_type": "skip"
    }
   },
   "outputs": [],
   "source": [
    "import pandas as pd\n",
    "\n",
    "df = pd.read_csv(\"iris.csv\")"
   ]
  },
  {
   "cell_type": "code",
   "execution_count": 4,
   "id": "stupid-bachelor",
   "metadata": {
    "slideshow": {
     "slide_type": "slide"
    }
   },
   "outputs": [
    {
     "data": {
      "text/html": [
       "<div>\n",
       "<style scoped>\n",
       "    .dataframe tbody tr th:only-of-type {\n",
       "        vertical-align: middle;\n",
       "    }\n",
       "\n",
       "    .dataframe tbody tr th {\n",
       "        vertical-align: top;\n",
       "    }\n",
       "\n",
       "    .dataframe thead th {\n",
       "        text-align: right;\n",
       "    }\n",
       "</style>\n",
       "<table border=\"1\" class=\"dataframe\">\n",
       "  <thead>\n",
       "    <tr style=\"text-align: right;\">\n",
       "      <th></th>\n",
       "      <th>sepal.length</th>\n",
       "      <th>sepal.width</th>\n",
       "      <th>petal.length</th>\n",
       "      <th>petal.width</th>\n",
       "      <th>variety</th>\n",
       "    </tr>\n",
       "  </thead>\n",
       "  <tbody>\n",
       "    <tr>\n",
       "      <th>0</th>\n",
       "      <td>5.1</td>\n",
       "      <td>3.5</td>\n",
       "      <td>1.4</td>\n",
       "      <td>0.2</td>\n",
       "      <td>Setosa</td>\n",
       "    </tr>\n",
       "    <tr>\n",
       "      <th>1</th>\n",
       "      <td>4.9</td>\n",
       "      <td>3.0</td>\n",
       "      <td>1.4</td>\n",
       "      <td>0.2</td>\n",
       "      <td>Setosa</td>\n",
       "    </tr>\n",
       "    <tr>\n",
       "      <th>2</th>\n",
       "      <td>4.7</td>\n",
       "      <td>3.2</td>\n",
       "      <td>1.3</td>\n",
       "      <td>0.2</td>\n",
       "      <td>Setosa</td>\n",
       "    </tr>\n",
       "    <tr>\n",
       "      <th>3</th>\n",
       "      <td>4.6</td>\n",
       "      <td>3.1</td>\n",
       "      <td>1.5</td>\n",
       "      <td>0.2</td>\n",
       "      <td>Setosa</td>\n",
       "    </tr>\n",
       "    <tr>\n",
       "      <th>4</th>\n",
       "      <td>5.0</td>\n",
       "      <td>3.6</td>\n",
       "      <td>1.4</td>\n",
       "      <td>0.2</td>\n",
       "      <td>Setosa</td>\n",
       "    </tr>\n",
       "    <tr>\n",
       "      <th>5</th>\n",
       "      <td>5.4</td>\n",
       "      <td>3.9</td>\n",
       "      <td>1.7</td>\n",
       "      <td>0.4</td>\n",
       "      <td>Setosa</td>\n",
       "    </tr>\n",
       "    <tr>\n",
       "      <th>6</th>\n",
       "      <td>4.6</td>\n",
       "      <td>3.4</td>\n",
       "      <td>1.4</td>\n",
       "      <td>0.3</td>\n",
       "      <td>Setosa</td>\n",
       "    </tr>\n",
       "    <tr>\n",
       "      <th>7</th>\n",
       "      <td>5.0</td>\n",
       "      <td>3.4</td>\n",
       "      <td>1.5</td>\n",
       "      <td>0.2</td>\n",
       "      <td>Setosa</td>\n",
       "    </tr>\n",
       "    <tr>\n",
       "      <th>8</th>\n",
       "      <td>4.4</td>\n",
       "      <td>2.9</td>\n",
       "      <td>1.4</td>\n",
       "      <td>0.2</td>\n",
       "      <td>Setosa</td>\n",
       "    </tr>\n",
       "    <tr>\n",
       "      <th>9</th>\n",
       "      <td>4.9</td>\n",
       "      <td>3.1</td>\n",
       "      <td>1.5</td>\n",
       "      <td>0.1</td>\n",
       "      <td>Setosa</td>\n",
       "    </tr>\n",
       "  </tbody>\n",
       "</table>\n",
       "</div>"
      ],
      "text/plain": [
       "   sepal.length  sepal.width  petal.length  petal.width variety\n",
       "0           5.1          3.5           1.4          0.2  Setosa\n",
       "1           4.9          3.0           1.4          0.2  Setosa\n",
       "2           4.7          3.2           1.3          0.2  Setosa\n",
       "3           4.6          3.1           1.5          0.2  Setosa\n",
       "4           5.0          3.6           1.4          0.2  Setosa\n",
       "5           5.4          3.9           1.7          0.4  Setosa\n",
       "6           4.6          3.4           1.4          0.3  Setosa\n",
       "7           5.0          3.4           1.5          0.2  Setosa\n",
       "8           4.4          2.9           1.4          0.2  Setosa\n",
       "9           4.9          3.1           1.5          0.1  Setosa"
      ]
     },
     "execution_count": 4,
     "metadata": {},
     "output_type": "execute_result"
    }
   ],
   "source": [
    "# View a subset of data\n",
    "\n",
    "df.head(10)"
   ]
  },
  {
   "cell_type": "markdown",
   "id": "general-norway",
   "metadata": {
    "slideshow": {
     "slide_type": "slide"
    }
   },
   "source": [
    "# Get Data from pretty much anywhere...\n",
    "\n",
    "Method | Description\n",
    "---|---\n",
    "read_table | Read general delimited file into DataFrame.\n",
    "**read_csv** | Read a comma-separated values (csv) file into DataFrame.\n",
    "read_fwf| Read a table of fixed-width formatted lines into DataFrame.\n",
    "read_clipboard | Read text from clipboard and pass to read_csv.\n",
    "**read_excel** | Read an Excel file into a pandas DataFrame.\n",
    "**read_json** | Convert a JSON string to pandas object.\n",
    "read_html | Read HTML tables into a list of DataFrame objects.\n",
    "read_hdf | Read from the store, close it if we opened it.\n",
    "read_feather | Load a feather-format object from the file path.\n",
    "**read_parquet** | Load a parquet object from the file path, returning a DataFrame.\n",
    "read_orc | Load an ORC object from the file path, returning a DataFrame.\n",
    "read_sas | Read SAS files stored as either XPORT or SAS7BDAT format files.\n",
    "read_spss | Load an SPSS file from the file path, returning a DataFrame.\n",
    "**read_sql_table** | Read SQL database table into a DataFrame.\n",
    "**read_sql** | Read SQL query or database table into a DataFrame.\n",
    "read_gbq | Load data from Google BigQuery.\n",
    "read_stata | Read Stata file into DataFrame.\n",
    "read_xml | Read XML file string *(New in version 1.3.0.)*\n",
    "\n",
    "\n",
    "From the Api Docs [https://pandas.pydata.org/docs/reference/index.html#api](https://pandas.pydata.org/docs/reference/index.html) *(emphasis mine)*"
   ]
  },
  {
   "cell_type": "markdown",
   "id": "turned-charlotte",
   "metadata": {
    "slideshow": {
     "slide_type": "slide"
    }
   },
   "source": [
    "# ...To Pretty Much Anywhere\n",
    "\n",
    "[https://pandas.pydata.org/docs/reference/api/pandas.DataFrame.html](https://pandas.pydata.org/docs/reference/api/pandas.DataFrame.html)\n",
    "\n",
    "<table>\n",
    "    <tr>\n",
    "        <td>\n",
    "    <div align=\"left\">\n",
    "            <ul>\n",
    "            <li>to_clipboard</li>\n",
    "            <li><b>to_csv</b></li>\n",
    "            <li><b>to_dict</b></li>\n",
    "            <li>to_excel</li>\n",
    "            <li>to_feather</li>\n",
    "            <li>to_gbq</li>\n",
    "            <li>to_hdf</li>\n",
    "            <li>to_html</li>\n",
    "            <li><b>to_json</b></li>\n",
    "            <li>to_latex</li>\n",
    "            <li>to_markdown</li>\n",
    "    </ul>\n",
    "            </div>\n",
    "        </td>\n",
    "        <td>\n",
    "    <div align=\"left\">\n",
    "            <ul>\n",
    "            <li><b>to_numpy</b></li>\n",
    "            <li><b>to_parquet</b></li>\n",
    "            <li>to_period</li>\n",
    "            <li>to_pickle</li>\n",
    "            <li>to_records</li>\n",
    "            <li><b>to_sql</b></li>\n",
    "            <li>to_stata</li>\n",
    "            <li>to_string</li>\n",
    "            <li>to_timestamp</li>\n",
    "            <li>to_xarray</li>\n",
    "            </ul>\n",
    "            </div>\n",
    "        </td>\n",
    "    </tr>\n",
    "</table>\n",
    "\n",
    "\n",
    "\n",
    "\n",
    "\n",
    "\n",
    "\n",
    "\n"
   ]
  },
  {
   "cell_type": "code",
   "execution_count": 5,
   "id": "a5716186",
   "metadata": {
    "scrolled": true,
    "slideshow": {
     "slide_type": "skip"
    }
   },
   "outputs": [
    {
     "name": "stdout",
     "output_type": "stream",
     "text": [
      "Requirement already satisfied: pyodbc in c:\\python39\\lib\\site-packages (4.0.30)\n",
      "Requirement already satisfied: sqlalchemy in c:\\python39\\lib\\site-packages (1.4.6)\n",
      "Requirement already satisfied: greenlet!=0.4.17; python_version >= \"3\" in c:\\python39\\lib\\site-packages (from sqlalchemy) (1.0.0)\n"
     ]
    },
    {
     "name": "stderr",
     "output_type": "stream",
     "text": [
      "WARNING: You are using pip version 20.2.3; however, version 21.1.2 is available.\n",
      "You should consider upgrading via the 'c:\\python39\\python.exe -m pip install --upgrade pip' command.\n"
     ]
    }
   ],
   "source": [
    "!pip install pyodbc sqlalchemy"
   ]
  },
  {
   "cell_type": "markdown",
   "id": "afb74d3c",
   "metadata": {
    "slideshow": {
     "slide_type": "slide"
    }
   },
   "source": [
    "Simple ETL Example - read from SQL, make a column, save the result"
   ]
  },
  {
   "cell_type": "code",
   "execution_count": 6,
   "id": "aerial-wheat",
   "metadata": {
    "slideshow": {
     "slide_type": "-"
    }
   },
   "outputs": [],
   "source": [
    "# \n",
    "import pyodbc\n",
    "from sqlalchemy import create_engine\n",
    "\n",
    "sql_driver = sorted([x for x in pyodbc.drivers() if \"SQL Server\" in x])[-1]\n",
    "server_name = r\".\\SQL2017\"\n",
    "database_name = \"AdventureWorksDW2017\"\n",
    "\n",
    "mssql_engine = create_engine(\"mssql+pyodbc://{}/{}?driver={}\".format(server_name, database_name, sql_driver))\n",
    "\n",
    "# \"EXTRACT\"\n",
    "query = \"select * from dbo.DimCustomer\"\n",
    "df = pd.read_sql(con=mssql_engine, sql=query)\n",
    "\n",
    "# \"TRANSFORM\" - reassign as a subset of columns\n",
    "df = df[[\"FirstName\", \"LastName\"]]\n",
    "df[\"FullName\"] = df.apply(lambda x: \" \".join(x.fillna(\"\")), axis=1)\n",
    "\n",
    "# \"LOAD\" - Data Persistence\n",
    "df.to_sql(con=mssql_engine, name=\"sql_southwest\", if_exists=\"replace\")\n",
    "df.to_csv(\"sql_southwest.csv\")\n",
    "df.to_parquet(\"sql_southwest.parquet\")\n"
   ]
  },
  {
   "cell_type": "code",
   "execution_count": 7,
   "id": "5de4fdc0",
   "metadata": {
    "slideshow": {
     "slide_type": "skip"
    }
   },
   "outputs": [
    {
     "data": {
      "text/html": [
       "<div>\n",
       "<style scoped>\n",
       "    .dataframe tbody tr th:only-of-type {\n",
       "        vertical-align: middle;\n",
       "    }\n",
       "\n",
       "    .dataframe tbody tr th {\n",
       "        vertical-align: top;\n",
       "    }\n",
       "\n",
       "    .dataframe thead th {\n",
       "        text-align: right;\n",
       "    }\n",
       "</style>\n",
       "<table border=\"1\" class=\"dataframe\">\n",
       "  <thead>\n",
       "    <tr style=\"text-align: right;\">\n",
       "      <th></th>\n",
       "      <th>FirstName</th>\n",
       "      <th>LastName</th>\n",
       "      <th>FullName</th>\n",
       "    </tr>\n",
       "  </thead>\n",
       "  <tbody>\n",
       "    <tr>\n",
       "      <th>0</th>\n",
       "      <td>Jon</td>\n",
       "      <td>Yang</td>\n",
       "      <td>Jon Yang</td>\n",
       "    </tr>\n",
       "    <tr>\n",
       "      <th>1</th>\n",
       "      <td>Eugene</td>\n",
       "      <td>Huang</td>\n",
       "      <td>Eugene Huang</td>\n",
       "    </tr>\n",
       "    <tr>\n",
       "      <th>2</th>\n",
       "      <td>Ruben</td>\n",
       "      <td>Torres</td>\n",
       "      <td>Ruben Torres</td>\n",
       "    </tr>\n",
       "    <tr>\n",
       "      <th>3</th>\n",
       "      <td>Christy</td>\n",
       "      <td>Zhu</td>\n",
       "      <td>Christy Zhu</td>\n",
       "    </tr>\n",
       "    <tr>\n",
       "      <th>4</th>\n",
       "      <td>Elizabeth</td>\n",
       "      <td>Johnson</td>\n",
       "      <td>Elizabeth Johnson</td>\n",
       "    </tr>\n",
       "  </tbody>\n",
       "</table>\n",
       "</div>"
      ],
      "text/plain": [
       "   FirstName LastName           FullName\n",
       "0        Jon     Yang           Jon Yang\n",
       "1     Eugene    Huang       Eugene Huang\n",
       "2      Ruben   Torres       Ruben Torres\n",
       "3    Christy      Zhu        Christy Zhu\n",
       "4  Elizabeth  Johnson  Elizabeth Johnson"
      ]
     },
     "execution_count": 7,
     "metadata": {},
     "output_type": "execute_result"
    }
   ],
   "source": [
    "df.head()"
   ]
  },
  {
   "cell_type": "markdown",
   "id": "passing-intermediate",
   "metadata": {
    "slideshow": {
     "slide_type": "slide"
    }
   },
   "source": [
    "## Common SQL Operations\n",
    "\n",
    "* **Joining Datasets** - use `df2.join(df2)` or `df1.merge(df2)` for sql-like joins\n",
    "* **Group By** - group by values and add numeric aggregates\n",
    "* **Filtering** - use `df.query` or `df[df[col]=='val']`\n",
    "* **Union** - use `pd.Concat([df1, df2...])`\n",
    "* **Ordering** - use `df.sort_values([col1, col2...])`"
   ]
  },
  {
   "cell_type": "markdown",
   "id": "athletic-platinum",
   "metadata": {
    "slideshow": {
     "slide_type": "slide"
    }
   },
   "source": [
    "## Data Manipulation\n",
    "\n",
    "* `fillna` - replace missing data using static values (e.g. mean or 0)\n",
    "* `bfill` and `ffill` - back/forward fill strategies (wrapper around fillna) - optionally use Group By\n",
    "* `interpolate` missing values using linear, polynomial interpolation  (uses SciPy)\n",
    "* `replace` - dataframe wide string functions\n",
    "* `apply` apply row-wise lambda functions"
   ]
  },
  {
   "cell_type": "markdown",
   "id": "organizational-nursing",
   "metadata": {
    "slideshow": {
     "slide_type": "slide"
    }
   },
   "source": [
    "# Data Exploration\n",
    "\n",
    "\n",
    "* `df.info()` - information about the dataframe - what columns and datatypes\n",
    "* `df.describe()` - stats about the data in all numeric (by default) columns\n",
    "* `df.mean()` - directly run builtin or NumPy or custom aggregates\n"
   ]
  },
  {
   "cell_type": "code",
   "execution_count": 8,
   "id": "behavioral-monkey",
   "metadata": {
    "slideshow": {
     "slide_type": "slide"
    }
   },
   "outputs": [
    {
     "name": "stdout",
     "output_type": "stream",
     "text": [
      "<class 'pandas.core.frame.DataFrame'>\n",
      "RangeIndex: 150 entries, 0 to 149\n",
      "Data columns (total 5 columns):\n",
      " #   Column        Non-Null Count  Dtype  \n",
      "---  ------        --------------  -----  \n",
      " 0   sepal.length  150 non-null    float64\n",
      " 1   sepal.width   150 non-null    float64\n",
      " 2   petal.length  150 non-null    float64\n",
      " 3   petal.width   150 non-null    float64\n",
      " 4   variety       150 non-null    object \n",
      "dtypes: float64(4), object(1)\n",
      "memory usage: 6.0+ KB\n",
      "None\n"
     ]
    }
   ],
   "source": [
    "iris_df = pd.read_csv(\"iris.csv\")\n",
    "\n",
    "print(iris_df.info())"
   ]
  },
  {
   "cell_type": "code",
   "execution_count": 9,
   "id": "40a02db9",
   "metadata": {
    "slideshow": {
     "slide_type": "slide"
    }
   },
   "outputs": [
    {
     "name": "stdout",
     "output_type": "stream",
     "text": [
      "        sepal.length  sepal.width  petal.length  petal.width     variety\n",
      "count     150.000000   150.000000    150.000000   150.000000         150\n",
      "unique           NaN          NaN           NaN          NaN           3\n",
      "top              NaN          NaN           NaN          NaN  Versicolor\n",
      "freq             NaN          NaN           NaN          NaN          50\n",
      "mean        5.843333     3.057333      3.758000     1.199333         NaN\n",
      "std         0.828066     0.435866      1.765298     0.762238         NaN\n",
      "min         4.300000     2.000000      1.000000     0.100000         NaN\n",
      "25%         5.100000     2.800000      1.600000     0.300000         NaN\n",
      "50%         5.800000     3.000000      4.350000     1.300000         NaN\n",
      "75%         6.400000     3.300000      5.100000     1.800000         NaN\n",
      "max         7.900000     4.400000      6.900000     2.500000         NaN\n"
     ]
    }
   ],
   "source": [
    "print(iris_df.describe(include=\"all\"))"
   ]
  },
  {
   "cell_type": "code",
   "execution_count": 10,
   "id": "2701540c",
   "metadata": {
    "slideshow": {
     "slide_type": "slide"
    }
   },
   "outputs": [
    {
     "name": "stdout",
     "output_type": "stream",
     "text": [
      "sepal.length    5.843333\n",
      "sepal.width     3.057333\n",
      "petal.length    3.758000\n",
      "petal.width     1.199333\n",
      "dtype: float64\n"
     ]
    }
   ],
   "source": [
    "print(iris_df.mean(axis=0))"
   ]
  },
  {
   "cell_type": "markdown",
   "id": "responsible-expansion",
   "metadata": {
    "slideshow": {
     "slide_type": "slide"
    }
   },
   "source": [
    "# Built in Plots\n",
    "\n",
    "For convenience, you *can* call matplotlib charts directly from the dataframe"
   ]
  },
  {
   "cell_type": "code",
   "execution_count": 11,
   "id": "outer-freeware",
   "metadata": {
    "slideshow": {
     "slide_type": "slide"
    }
   },
   "outputs": [
    {
     "data": {
      "text/plain": [
       "<AxesSubplot:xlabel='sepal.length', ylabel='sepal.width'>"
      ]
     },
     "execution_count": 11,
     "metadata": {},
     "output_type": "execute_result"
    },
    {
     "data": {
      "image/png": "[encoded data removed]",
      "text/plain": [
       "<Figure size 432x288 with 1 Axes>"
      ]
     },
     "metadata": {
      "needs_background": "light"
     },
     "output_type": "display_data"
    }
   ],
   "source": [
    "# Get the file\n",
    "iris_df = pd.read_csv(\"iris.csv\")\n",
    "\n",
    "# Encode the variety column as 0, 1, 2\n",
    "iris_df[\"variety_codes\"] = pd.Categorical(iris_df[\"variety\"]).codes\n",
    "\n",
    "# Scatterplot\n",
    "iris_df.plot(x=\"sepal.length\", y=\"sepal.width\", c=\"variety_codes\", colormap=\"viridis\", kind=\"scatter\", colorbar=False)\n"
   ]
  },
  {
   "cell_type": "code",
   "execution_count": 12,
   "id": "362c8de7",
   "metadata": {
    "slideshow": {
     "slide_type": "slide"
    }
   },
   "outputs": [
    {
     "data": {
      "image/png": "[encoded data removed]",
      "text/plain": [
       "<Figure size 720x360 with 1 Axes>"
      ]
     },
     "metadata": {
      "needs_background": "light"
     },
     "output_type": "display_data"
    }
   ],
   "source": [
    "import matplotlib.pyplot as plt\n",
    "fig, ax = plt.subplots(figsize=(10,5))\n",
    "\n",
    "# Kernel Density Estimator\n",
    "iris_df.plot(colormap=\"viridis\", kind=\"kde\", ax=ax, title=\"Kernel Density Estimator\")\n",
    "\n",
    "plt.show()"
   ]
  },
  {
   "cell_type": "markdown",
   "id": "rational-battlefield",
   "metadata": {
    "slideshow": {
     "slide_type": "slide"
    }
   },
   "source": [
    "# Plays nicely with others\n",
    "\n",
    "* Built on NumPy so switching back to NumPy arrays is trivial (use `df.values`)\n",
    "* Generally works well with `sklearn` estimators for Machine Learning\n",
    "* Other charting libraries like **Seaborn** integrate smoothly with DataFrames\n",
    "* Extensibility - pandasgui, pandas-profiler, geopandas, bcpandas"
   ]
  },
  {
   "cell_type": "markdown",
   "id": "duplicate-japan",
   "metadata": {
    "slideshow": {
     "slide_type": "slide"
    }
   },
   "source": [
    "# Not Enough Memory?\n",
    "\n",
    "Pandas loads data into memory, meaning the dataset size is constrained by your machine.\n",
    "\n",
    "The `chunksize` parameter allows methods like `read_sql` to return an iterable, allowing you to process a subset of your source data one DataFrame at a time\n",
    "\n",
    "````python\n",
    "dfs = pd.read_sql(con=con, sql=query, chunksize=10000)\n",
    "for df in dfs:\n",
    "    df.do_stuff(...)\n",
    "````"
   ]
  },
  {
   "cell_type": "markdown",
   "id": "847dbe09",
   "metadata": {
    "slideshow": {
     "slide_type": "slide"
    }
   },
   "source": [
    "# Clustering Up\n",
    "\n",
    "For larger operations, scale dataframes horizontally over multiple machines:\n",
    "\n",
    "### Dask\n",
    "\n",
    "Distributed DataFrames - *similar* API to Pandas over a cluster, inc. resource manager, lazy execution model\n",
    "\n",
    "[https://dask.org/](https://dask.org/)\n",
    "\n",
    "### Koalas\n",
    "\n",
    "Pandas API over Spark Cluster.\n",
    "\n",
    "> Have a single codebase that works both with pandas (tests, smaller datasets) and with Spark (distributed datasets).\n",
    "\n",
    "[https://koalas.readthedocs.io/en/latest/](https://koalas.readthedocs.io/en/latest/)"
   ]
  },
  {
   "cell_type": "markdown",
   "id": "measured-giant",
   "metadata": {
    "slideshow": {
     "slide_type": "slide"
    }
   },
   "source": [
    "# What Next?\n",
    "\n",
    "Official docs\n",
    "\n",
    "> [https://pandas.pydata.org]([https://pandas.pydata.org)\n",
    "\n",
    "Coming from a SQL Background?\n",
    "\n",
    "> [https://pandas.pydata.org/docs/getting_started/comparison/comparison_with_sql.html#compare-with-sql](https://pandas.pydata.org/docs/getting_started/comparison/comparison_with_sql.html#compare-with-sql)\n",
    "\n",
    "\n",
    "````python\n",
    "pip install pandas\n",
    "````"
   ]
  }
 ],
 "metadata": {
  "celltoolbar": "Slideshow",
  "kernelspec": {
   "display_name": "Python 3",
   "language": "python",
   "name": "python3"
  },
  "language_info": {
   "codemirror_mode": {
    "name": "ipython",
    "version": 3
   },
   "file_extension": ".py",
   "mimetype": "text/x-python",
   "name": "python",
   "nbconvert_exporter": "python",
   "pygments_lexer": "ipython3",
   "version": "3.9.4"
  }
 },
 "nbformat": 4,
 "nbformat_minor": 5
}
